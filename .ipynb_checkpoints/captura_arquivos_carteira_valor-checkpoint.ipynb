{
 "cells": [
  {
   "cell_type": "code",
   "execution_count": 57,
   "metadata": {},
   "outputs": [],
   "source": [
    "from datetime import datetime\n",
    "from datetime import timedelta\n",
    "from datetime import date\n",
    "import datetime\n",
    "import calendar\n",
    "import time\n",
    "import os\n",
    "import getpass\n",
    "from datetime import date, timedelta\n",
    "from pathlib import Path\n",
    "import shutil\n",
    "\n",
    "from selenium.webdriver.chrome.options import Options\n",
    "from selenium.webdriver.support.ui import WebDriverWait\n",
    "from selenium.common.exceptions import TimeoutException\n",
    "from selenium import webdriver\n",
    "from selenium.webdriver.common.keys import Keys\n",
    "\n",
    "from dotenv import load_dotenv\n",
    "from dotenv import find_dotenv\n",
    "load_dotenv(find_dotenv())\n",
    "\n",
    "\n",
    "def get_webdriver(download_path = 'downloads'):\n",
    "    basedir = os.path.abspath('.')\n",
    "    download_path = os.path.join(basedir, download_path)\n",
    "\n",
    "    options = Options()\n",
    "    options.add_argument('--profile-directory=Default')\n",
    "\n",
    "    options.add_experimental_option(\"prefs\", {\n",
    "        \"download.default_directory\": download_path,\n",
    "        \"download.prompt_for_download\": False,\n",
    "        \"download.directory_upgrade\": True,\n",
    "        \"safebrowsing.enabled\": True\n",
    "    })\n",
    "\n",
    "    driver = webdriver.Chrome(\n",
    "        executable_path='chromedriver.exe',\n",
    "        options=options\n",
    "    )\n",
    "\n",
    "    # maximiza o browser\n",
    "    #driver.maximize_window()    \n",
    "\n",
    "    return driver"
   ]
  },
  {
   "cell_type": "code",
   "execution_count": 58,
   "metadata": {},
   "outputs": [],
   "source": [
    "webdriver = get_webdriver()"
   ]
  },
  {
   "cell_type": "code",
   "execution_count": null,
   "metadata": {},
   "outputs": [],
   "source": []
  },
  {
   "cell_type": "code",
   "execution_count": 59,
   "metadata": {},
   "outputs": [
    {
     "name": "stdout",
     "output_type": "stream",
     "text": [
      "https://www.valor.com.br/carteira-valor-iframe/historico/1/2012\n",
      "2012_1_carteira_valor.html\n",
      "salvando arquivo...\n"
     ]
    },
    {
     "ename": "TypeError",
     "evalue": "a bytes-like object is required, not 'str'",
     "output_type": "error",
     "traceback": [
      "\u001b[1;31m---------------------------------------------------------------------------\u001b[0m",
      "\u001b[1;31mTypeError\u001b[0m                                 Traceback (most recent call last)",
      "\u001b[1;32m<ipython-input-59-3efc4a984d9f>\u001b[0m in \u001b[0;36m<module>\u001b[1;34m\u001b[0m\n\u001b[0;32m     17\u001b[0m         \u001b[1;32mwith\u001b[0m \u001b[0mopen\u001b[0m\u001b[1;33m(\u001b[0m\u001b[0mfile_name\u001b[0m\u001b[1;33m,\u001b[0m \u001b[1;34m'wb'\u001b[0m\u001b[1;33m)\u001b[0m \u001b[1;32mas\u001b[0m \u001b[0mfid\u001b[0m\u001b[1;33m:\u001b[0m\u001b[1;33m\u001b[0m\u001b[1;33m\u001b[0m\u001b[0m\n\u001b[0;32m     18\u001b[0m             \u001b[0mprint\u001b[0m\u001b[1;33m(\u001b[0m\u001b[1;34m'salvando arquivo...'\u001b[0m\u001b[1;33m)\u001b[0m\u001b[1;33m\u001b[0m\u001b[1;33m\u001b[0m\u001b[0m\n\u001b[1;32m---> 19\u001b[1;33m             \u001b[0mfid\u001b[0m\u001b[1;33m.\u001b[0m\u001b[0mwrite\u001b[0m\u001b[1;33m(\u001b[0m\u001b[0mfile_path\u001b[0m\u001b[1;33m)\u001b[0m\u001b[1;33m\u001b[0m\u001b[1;33m\u001b[0m\u001b[0m\n\u001b[0m",
      "\u001b[1;31mTypeError\u001b[0m: a bytes-like object is required, not 'str'"
     ]
    }
   ],
   "source": [
    "for ano in range(2012, 2021):\n",
    "    for mes in range (1,13):\n",
    "        url = f'https://www.valor.com.br/carteira-valor-iframe/historico/{mes}/{ano}'\n",
    "\n",
    "        if ano == 2020 and mes == 8:\n",
    "            url = 'https://www.valor.com.br/carteira-valor-iframe/'\n",
    "\n",
    "        if ano == 2020 and mes > 8:\n",
    "            break\n",
    "\n",
    "        print(url)\n",
    "        webdriver.get(url)\n",
    "        html = webdriver.page_source.encode('utf-8')\n",
    "        file_name = f'{ano}_{mes}_carteira_valor.html'\n",
    "        file_path = os.path.join('htmls', file_name)\n",
    "        print(file_name)\n",
    "        with open(file_path, 'wb') as fid:\n",
    "            print('salvando arquivo...')\n",
    "            fid.write(html)"
   ]
  },
  {
   "cell_type": "code",
   "execution_count": null,
   "metadata": {},
   "outputs": [],
   "source": []
  },
  {
   "cell_type": "code",
   "execution_count": null,
   "metadata": {},
   "outputs": [],
   "source": []
  }
 ],
 "metadata": {
  "kernelspec": {
   "display_name": "Python 3",
   "language": "python",
   "name": "python3"
  },
  "language_info": {
   "codemirror_mode": {
    "name": "ipython",
    "version": 3
   },
   "file_extension": ".py",
   "mimetype": "text/x-python",
   "name": "python",
   "nbconvert_exporter": "python",
   "pygments_lexer": "ipython3",
   "version": "3.7.1"
  }
 },
 "nbformat": 4,
 "nbformat_minor": 2
}
